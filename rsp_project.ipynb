{
  "nbformat": 4,
  "nbformat_minor": 0,
  "metadata": {
    "colab": {
      "name": "keras.ipynb",
      "provenance": [],
      "machine_shape": "hm",
      "collapsed_sections": []
    },
    "kernelspec": {
      "name": "python3",
      "display_name": "Python 3"
    },
    "language_info": {
      "name": "python"
    },
    "accelerator": "GPU"
  },
  "cells": [
    {
      "cell_type": "code",
      "source": [
        "from google.colab import drive\n",
        "drive.mount('/content/gdrive')\n",
        "\n",
        "from PIL import Image\n",
        "from glob import glob\n",
        "import os"
      ],
      "metadata": {
        "colab": {
          "base_uri": "https://localhost:8080/"
        },
        "id": "Os8bjlZVEMpi",
        "outputId": "b48d2874-c9c5-43f4-d6fa-7e5070ebaa0a"
      },
      "execution_count": 1,
      "outputs": [
        {
          "output_type": "stream",
          "name": "stdout",
          "text": [
            "Mounted at /content/gdrive\n"
          ]
        }
      ]
    },
    {
      "cell_type": "code",
      "source": [
        "from numpy import expand_dims\n",
        "from keras.preprocessing.image import load_img\n",
        "from keras.preprocessing.image import img_to_array\n",
        "from keras.preprocessing.image import ImageDataGenerator\n",
        "from matplotlib import pyplot as plt\n",
        "\n",
        "def resize_images(img_path, target_size):\n",
        "    img_types = [\"rock\",\"scissors\",\"paper\"]\n",
        "    if not os.path.isdir(\"/content/gdrive/MyDrive/deep-learning\"):\n",
        "        os.mkdir(\"/content/gdrive/MyDrive/deep-learning\")\n",
        "    for img_type in img_types:\n",
        "        resized_img_path = \"/content/gdrive/MyDrive/deep-learning/\" + img_type\n",
        "        if not os.path.isdir(resized_img_path):\n",
        "            os.mkdir(resized_img_path)\n",
        "        img_list = glob(img_path + \"/\" + img_type + \"/*\")\n",
        "        for i, img in enumerate(img_list):\n",
        "            original_img = Image.open(img).convert('RGB')\n",
        "            resized_img = original_img.resize(target_size, Image.ANTIALIAS)\n",
        "            img_name = img.split(\"/\")[-1]\n",
        "            resized_img.save(resized_img_path + \"/\" + img_name, 'png')\n",
        "\n",
        "            # data = img_to_array(resized_img)\n",
        "\n",
        "            # samples = expand_dims(data, 0)\n",
        "\n",
        "            # # create image data augmentation generator\n",
        "            # datagen = ImageDataGenerator(horizontal_flip = True, vertical_flip = True, rotation_range=90)\n",
        "\n",
        "            # # prepare iterator\n",
        "            # it = datagen.flow(samples, batch_size=1, save_format=\"png\",save_to_dir = f\"{resized_img_path}\")\n",
        "\n",
        "            # # generate samples and plot\n",
        "            # fig = plt.figure(figsize = (20,20))\n",
        "            # for i in range(4):\n",
        "            #     # define subplot\n",
        "            #     plt.subplot(330 + 1 + i)\n",
        "            #     # generate batch of images\n",
        "            #     batch = it.next()\n",
        "            #     # convert to unsigned integers for viewing\n",
        "            #     image = batch[0].astype('uint8')\n",
        "            #     # plot raw pixel data\n",
        "            #     plt.imshow(image)\n",
        "\n",
        "            # fig.savefig('파일')\n",
        "\n",
        "        print(img_type, \" : \", len(img_list), \"DONE\")"
      ],
      "metadata": {
        "id": "dpnQnXDaXYON",
        "pycharm": {
          "name": "#%%\n"
        }
      },
      "execution_count": 2,
      "outputs": []
    },
    {
      "cell_type": "code",
      "source": [
        "resize_images(\"/content/gdrive/MyDrive/deeplearning\", (128, 128))"
      ],
      "metadata": {
        "colab": {
          "base_uri": "https://localhost:8080/"
        },
        "id": "I-vjnXIqaXUx",
        "outputId": "adcf0062-0419-412c-cc24-e9398d39a778",
        "pycharm": {
          "name": "#%%\n"
        }
      },
      "execution_count": 3,
      "outputs": [
        {
          "output_type": "stream",
          "name": "stdout",
          "text": [
            "rock  :  1026 DONE\n",
            "scissors  :  1020 DONE\n",
            "paper  :  1026 DONE\n"
          ]
        }
      ]
    },
    {
      "cell_type": "code",
      "source": [
        "import numpy as np\n",
        "import glob\n",
        "\n",
        "def load_data(img_path, img_size):  # 가위바위보 이미지 개수 총합에 주의\n",
        "    paper = glob.glob(img_path + \"/paper/*\")\n",
        "    rock = glob.glob(img_path + \"/rock/*\")\n",
        "    scissors = glob.glob(img_path + \"/scissors/*\")\n",
        "    number_of_data = len(paper) + len(rock) + len(scissors)\n",
        "    color=3\n",
        "    #이미지 데이터와 라벨(주먹 : 0, 가위 : 1, 보 : 2) 데이터를 담을 행렬(matrix) 영역을 생성\n",
        "    imgs = np.zeros(number_of_data * img_size * img_size * color,\n",
        "                    dtype = np.int32)\\\n",
        "        .reshape(number_of_data, img_size, img_size, color)\n",
        "    labels=np.zeros(number_of_data ,dtype=np.int32)\n",
        "\n",
        "    idx=0\n",
        "    for file in glob.iglob(img_path+'/rock/*.png'):\n",
        "        img = np.array(Image.open(file),dtype=np.int32)\n",
        "        imgs[idx,:,:,:]=img    # 데이터 영역에 이미지 행렬을 복사\n",
        "        labels[idx]=0   # 주먹 : 0\n",
        "        idx=idx+1\n",
        "    print(\"rock\")\n",
        "\n",
        "    for file in glob.iglob(img_path+'/scissors/*.png'):\n",
        "        img = np.array(Image.open(file),dtype=np.int32)\n",
        "        imgs[idx,:,:,:]=img    # 데이터 영역에 이미지 행렬을 복사\n",
        "        labels[idx]=1   # 가위 : 1\n",
        "        idx=idx+1  \n",
        "    print(\"scissors\")\n",
        "    \n",
        "    for file in glob.iglob(img_path+'/paper/*.png'):\n",
        "        img = np.array(Image.open(file),dtype=np.int32)\n",
        "        imgs[idx,:,:,:]=img    # 데이터 영역에 이미지 행렬을 복사\n",
        "        labels[idx]=2   # 보 : 2\n",
        "        idx=idx+1\n",
        "    print(\"done\")\n",
        "\n",
        "    return imgs, labels"
      ],
      "metadata": {
        "id": "g-zai9e-agat",
        "pycharm": {
          "name": "#%%\n"
        }
      },
      "execution_count": 4,
      "outputs": []
    },
    {
      "cell_type": "markdown",
      "source": [
        ""
      ],
      "metadata": {
        "collapsed": false,
        "pycharm": {
          "name": "#%% md\n"
        },
        "id": "5L8tyqUjDyPZ"
      }
    },
    {
      "cell_type": "markdown",
      "source": [
        "# 새 섹션"
      ],
      "metadata": {
        "id": "SMXoadwvILEr"
      }
    },
    {
      "cell_type": "code",
      "source": [
        "image_dir_path = \"/content/gdrive/MyDrive/deep-learning\"\n",
        "(x, y)=load_data(image_dir_path, 128)\n",
        "x_norm = x/255.0   # 입력은 0~1 사이의 값으로 정규화\n",
        "\n",
        "print(f\"x_train shape: {x.shape}\")\n",
        "print(f\"y_train shape: {y.shape}\")"
      ],
      "metadata": {
        "colab": {
          "base_uri": "https://localhost:8080/"
        },
        "id": "phmcRMd3aoUK",
        "outputId": "66c68e2b-8cb4-4600-ce6f-056c5f3fc9d0",
        "pycharm": {
          "name": "#%%\n"
        }
      },
      "execution_count": 5,
      "outputs": [
        {
          "output_type": "stream",
          "name": "stdout",
          "text": [
            "rock\n",
            "scissors\n",
            "done\n",
            "x_train shape: (3072, 128, 128, 3)\n",
            "y_train shape: (3072,)\n"
          ]
        }
      ]
    },
    {
      "cell_type": "code",
      "source": [
        "import matplotlib.pyplot as plt\n",
        "\n",
        "plt.imshow(x[1000])\n",
        "print(f\"x_train shape: {x.shape}\")\n",
        "print('라벨: ', y[0])"
      ],
      "metadata": {
        "colab": {
          "base_uri": "https://localhost:8080/",
          "height": 304
        },
        "id": "u8urbrD_UQ42",
        "outputId": "9be5d81a-df30-4bb2-ce22-daf4d70fdd8e"
      },
      "execution_count": 6,
      "outputs": [
        {
          "output_type": "stream",
          "name": "stdout",
          "text": [
            "x_train shape: (3072, 128, 128, 3)\n",
            "라벨:  0\n"
          ]
        },
        {
          "output_type": "display_data",
          "data": {
            "text/plain": [
              "<Figure size 432x288 with 1 Axes>"
            ],
            "image/png": "[encoded data removed]"
          },
          "metadata": {
            "needs_background": "light"
          }
        }
      ]
    },
    {
      "cell_type": "code",
      "source": [
        "def train_val_test_split(ds, sd, train_split=0.8, val_split=0.1, test_split=0.1, shuffle=True):\n",
        "    assert (train_split + test_split + val_split) == 1\n",
        "    \n",
        "    if shuffle:\n",
        "        # trainning set, validation set, test set 을 동일하게 섞기 위해 seed 를 설정\n",
        "        ds_shuffled = np.random.RandomState(seed=sd).permutation(ds)\n",
        "    \n",
        "    train_size = int(train_split * len(ds))\n",
        "    val_size = int(val_split * len(ds))\n",
        "    \n",
        "    train_ds = ds_shuffled[0:train_size]    \n",
        "    val_ds = ds_shuffled[train_size:train_size+val_size]\n",
        "    test_ds = ds_shuffled[train_size+val_size:]\n",
        "    \n",
        "    return train_ds, val_ds, test_ds\n",
        "\n",
        "x_train, x_val, x_test = train_val_test_split(x,30)\n",
        "y_train, y_val, y_test = train_val_test_split(y,30)"
      ],
      "metadata": {
        "id": "KniSKYxodWLf",
        "pycharm": {
          "name": "#%%\n"
        }
      },
      "execution_count": 7,
      "outputs": []
    },
    {
      "cell_type": "code",
      "source": [
        "print(x_train.shape)\n",
        "print(x_val.shape)\n",
        "print(x_test.shape)\n",
        "\n",
        "print(y_train.shape)\n",
        "print(y_val.shape)\n",
        "print(y_test.shape)"
      ],
      "metadata": {
        "colab": {
          "base_uri": "https://localhost:8080/"
        },
        "id": "EkCxpDrhd00O",
        "outputId": "639a5561-2fa6-4770-9233-08466b6640e7",
        "pycharm": {
          "name": "#%%\n"
        }
      },
      "execution_count": 8,
      "outputs": [
        {
          "output_type": "stream",
          "name": "stdout",
          "text": [
            "(2457, 128, 128, 3)\n",
            "(307, 128, 128, 3)\n",
            "(308, 128, 128, 3)\n",
            "(2457,)\n",
            "(307,)\n",
            "(308,)\n"
          ]
        }
      ]
    },
    {
      "cell_type": "code",
      "source": [
        "import tensorflow as tf\n",
        "from tensorflow import keras\n",
        "\n",
        "model=keras.models.Sequential()\n",
        "model.add(keras.layers.Conv2D(16, (3,3), activation='relu', input_shape=(128 ,128,3)))\n",
        "model.add(keras.layers.MaxPool2D(2,2))\n",
        "# model.add(keras.layers.Dropout(0,2))\n",
        "model.add(keras.layers.Conv2D(32, (3,3), activation='relu'))\n",
        "model.add(keras.layers.MaxPooling2D((2,2)))\n",
        "# model.add(keras.layers.Dropout(0,2))\n",
        "model.add(keras.layers.Flatten())\n",
        "model.add(keras.layers.Dense(32, activation='relu'))\n",
        "# model.add(keras.layers.Dropout(0,2))\n",
        "model.add(keras.layers.Dense(3, activation='softmax'))\n",
        "\n",
        "model.summary()"
      ],
      "metadata": {
        "colab": {
          "base_uri": "https://localhost:8080/"
        },
        "id": "WtcAt1DQbA5W",
        "outputId": "98f2c02e-3e1e-46a0-c094-70738c18a5ad",
        "pycharm": {
          "name": "#%%\n"
        }
      },
      "execution_count": 14,
      "outputs": [
        {
          "output_type": "stream",
          "name": "stdout",
          "text": [
            "Model: \"sequential_1\"\n",
            "_________________________________________________________________\n",
            " Layer (type)                Output Shape              Param #   \n",
            "=================================================================\n",
            " conv2d_2 (Conv2D)           (None, 126, 126, 16)      448       \n",
            "                                                                 \n",
            " max_pooling2d_2 (MaxPooling  (None, 63, 63, 16)       0         \n",
            " 2D)                                                             \n",
            "                                                                 \n",
            " conv2d_3 (Conv2D)           (None, 61, 61, 32)        4640      \n",
            "                                                                 \n",
            " max_pooling2d_3 (MaxPooling  (None, 30, 30, 32)       0         \n",
            " 2D)                                                             \n",
            "                                                                 \n",
            " flatten_1 (Flatten)         (None, 28800)             0         \n",
            "                                                                 \n",
            " dense_2 (Dense)             (None, 32)                921632    \n",
            "                                                                 \n",
            " dense_3 (Dense)             (None, 3)                 99        \n",
            "                                                                 \n",
            "=================================================================\n",
            "Total params: 926,819\n",
            "Trainable params: 926,819\n",
            "Non-trainable params: 0\n",
            "_________________________________________________________________\n"
          ]
        }
      ]
    },
    {
      "cell_type": "code",
      "source": [
        "x_train_norm = x_train / 255.0\n",
        "\n",
        "model.compile(optimizer = 'adam',\n",
        "             loss = 'sparse_categorical_crossentropy',\n",
        "             metrics = ['accuracy'])\n",
        "\n",
        "model.fit(x_train_norm, y_train, epochs=10)"
      ],
      "metadata": {
        "colab": {
          "base_uri": "https://localhost:8080/"
        },
        "id": "Hj1i_N9SbEi3",
        "outputId": "8117a2ed-80a9-45bc-c2f4-db6063ba98f7",
        "pycharm": {
          "name": "#%%\n"
        }
      },
      "execution_count": 15,
      "outputs": [
        {
          "output_type": "stream",
          "name": "stdout",
          "text": [
            "Epoch 1/10\n",
            "77/77 [==============================] - 1s 7ms/step - loss: 1.1997 - accuracy: 0.3329\n",
            "Epoch 2/10\n",
            "77/77 [==============================] - 1s 7ms/step - loss: 1.0959 - accuracy: 0.3667\n",
            "Epoch 3/10\n",
            "77/77 [==============================] - 1s 7ms/step - loss: 1.0708 - accuracy: 0.4123\n",
            "Epoch 4/10\n",
            "77/77 [==============================] - 1s 7ms/step - loss: 0.9501 - accuracy: 0.5568\n",
            "Epoch 5/10\n",
            "77/77 [==============================] - 1s 7ms/step - loss: 0.7521 - accuracy: 0.6854\n",
            "Epoch 6/10\n",
            "77/77 [==============================] - 1s 7ms/step - loss: 0.5928 - accuracy: 0.7648\n",
            "Epoch 7/10\n",
            "77/77 [==============================] - 1s 7ms/step - loss: 0.4629 - accuracy: 0.8282\n",
            "Epoch 8/10\n",
            "77/77 [==============================] - 1s 7ms/step - loss: 0.3613 - accuracy: 0.8669\n",
            "Epoch 9/10\n",
            "77/77 [==============================] - 1s 7ms/step - loss: 0.2717 - accuracy: 0.9031\n",
            "Epoch 10/10\n",
            "77/77 [==============================] - 1s 7ms/step - loss: 0.2138 - accuracy: 0.9324\n"
          ]
        },
        {
          "output_type": "execute_result",
          "data": {
            "text/plain": [
              "<keras.callbacks.History at 0x7fb996650d10>"
            ]
          },
          "metadata": {},
          "execution_count": 15
        }
      ]
    },
    {
      "cell_type": "code",
      "execution_count": 16,
      "outputs": [
        {
          "output_type": "stream",
          "name": "stdout",
          "text": [
            "10/10 - 0s - loss: 1.0770 - accuracy: 0.6818 - 145ms/epoch - 14ms/step\n",
            "최종 test_loss : 1.0769578218460083\n",
            "최종 test_accuracy : 0.6818181872367859\n"
          ]
        }
      ],
      "source": [
        "test_loss, test_accuracy = model.evaluate(x_test / 255.0, y_test, verbose = 2)\n",
        "\n",
        "print(\"최종 test_loss : {}\".format(test_loss))\n",
        "print(\"최종 test_accuracy : {}\".format(test_accuracy))"
      ],
      "metadata": {
        "pycharm": {
          "name": "#%%\n"
        },
        "colab": {
          "base_uri": "https://localhost:8080/"
        },
        "id": "tpY2aeGADyPe",
        "outputId": "00cca835-4713-43a1-bc99-f3e114c8d9d8"
      }
    },
    {
      "cell_type": "code",
      "source": [
        "val_loss, val_accuracy = model.evaluate(x_val / 255.0, y_val, verbose = 2)\n",
        "\n",
        "print(\"test_loss : {}\".format(val_loss))\n",
        "print(\"test_accuracy : {}\".format(val_accuracy))"
      ],
      "metadata": {
        "colab": {
          "base_uri": "https://localhost:8080/"
        },
        "id": "hy30igy5eDVi",
        "outputId": "39c91fab-0006-4f0f-8a2c-6f99054389b7",
        "pycharm": {
          "name": "#%%\n"
        }
      },
      "execution_count": 17,
      "outputs": [
        {
          "output_type": "stream",
          "name": "stdout",
          "text": [
            "10/10 - 0s - loss: 1.4510 - accuracy: 0.6221 - 58ms/epoch - 6ms/step\n",
            "test_loss : 1.4509685039520264\n",
            "test_accuracy : 0.6221498250961304\n"
          ]
        }
      ]
    },
    {
      "cell_type": "code",
      "source": [
        "predictions = model.predict(x_val)\n",
        "\n",
        "print(\"y_test = \", y_val[:40])\n",
        "print(\"predic = \", np.argmax(predictions[:40], axis=1))\n"
      ],
      "metadata": {
        "colab": {
          "base_uri": "https://localhost:8080/"
        },
        "id": "v2q4BYwlcM64",
        "outputId": "3f69a04e-5d9d-4d3a-aca3-4256051a80e3"
      },
      "execution_count": 13,
      "outputs": [
        {
          "output_type": "stream",
          "name": "stdout",
          "text": [
            "y_test =  [0 1 1 1 0 0 0 0 1 2 1 0 1 1 1 0 2 2 2 0 0 2 1 2 0 2 0 0 1 2 2 0 0 1 2 1 0\n",
            " 1 0 0]\n",
            "predic =  [2 1 1 2 2 2 0 0 1 2 0 1 2 1 1 0 2 2 2 0 0 2 2 2 2 2 2 1 1 0 2 0 1 1 1 2 2\n",
            " 2 0 0]\n"
          ]
        }
      ]
    }
  ]
}